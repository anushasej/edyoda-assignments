{
 "cells": [
  {
   "cell_type": "code",
   "execution_count": 2,
   "id": "b289a340",
   "metadata": {},
   "outputs": [],
   "source": [
    "#Write a Python program that accepts a word from the user and reverse it.\n",
    "#Sample Test Case\n",
    "#Input : Edyoda\n",
    "\n",
    "#output: adoydE"
   ]
  },
  {
   "cell_type": "code",
   "execution_count": 8,
   "id": "89782c7e",
   "metadata": {},
   "outputs": [
    {
     "name": "stdout",
     "output_type": "stream",
     "text": [
      "Edyoda\n",
      "adoydE"
     ]
    }
   ],
   "source": [
    "str = input()\n",
    "for i in range(len(str)-1,-1,-1):\n",
    "    print(str[i],end=\"\")\n",
    "    "
   ]
  },
  {
   "cell_type": "code",
   "execution_count": null,
   "id": "d47922bc",
   "metadata": {},
   "outputs": [],
   "source": []
  }
 ],
 "metadata": {
  "kernelspec": {
   "display_name": "Python 3 (ipykernel)",
   "language": "python",
   "name": "python3"
  },
  "language_info": {
   "codemirror_mode": {
    "name": "ipython",
    "version": 3
   },
   "file_extension": ".py",
   "mimetype": "text/x-python",
   "name": "python",
   "nbconvert_exporter": "python",
   "pygments_lexer": "ipython3",
   "version": "3.10.2"
  }
 },
 "nbformat": 4,
 "nbformat_minor": 5
}
