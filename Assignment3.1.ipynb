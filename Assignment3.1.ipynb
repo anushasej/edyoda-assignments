{
 "cells": [
  {
   "cell_type": "code",
   "execution_count": 3,
   "id": "d1bceb5b",
   "metadata": {},
   "outputs": [
    {
     "name": "stdout",
     "output_type": "stream",
     "text": [
      "length of list: 3\n",
      "enter values:1\n",
      "enter values:2\n",
      "enter values:3\n",
      "[1, 2, 3]\n",
      "sum=  6\n"
     ]
    }
   ],
   "source": [
    "def sum1(x):\n",
    "    sum =0\n",
    "    for i in a:\n",
    "        sum+=i\n",
    "    return sum\n",
    "a =[]\n",
    "n = int(input(\"length of list: \"))\n",
    "for i in range(n):\n",
    "    a.append(int(input(\"enter values:\")))\n",
    "print(a)\n",
    "\n",
    "print(\"sum= \",sum1(a))"
   ]
  },
  {
   "cell_type": "code",
   "execution_count": null,
   "id": "96313d56",
   "metadata": {},
   "outputs": [],
   "source": []
  }
 ],
 "metadata": {
  "kernelspec": {
   "display_name": "Python 3 (ipykernel)",
   "language": "python",
   "name": "python3"
  },
  "language_info": {
   "codemirror_mode": {
    "name": "ipython",
    "version": 3
   },
   "file_extension": ".py",
   "mimetype": "text/x-python",
   "name": "python",
   "nbconvert_exporter": "python",
   "pygments_lexer": "ipython3",
   "version": "3.10.2"
  }
 },
 "nbformat": 4,
 "nbformat_minor": 5
}
