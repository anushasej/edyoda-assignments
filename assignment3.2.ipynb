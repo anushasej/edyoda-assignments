{
 "cells": [
  {
   "cell_type": "code",
   "execution_count": 1,
   "id": "b86e1857",
   "metadata": {},
   "outputs": [
    {
     "name": "stdout",
     "output_type": "stream",
     "text": [
      "enter stringAjay is a good boy\n",
      "Ajay is a good boy\n",
      "reverse is: yob doog a si yajA\n"
     ]
    }
   ],
   "source": [
    "def rev(x):\n",
    "    l = \"\"\n",
    "    for i in range(len(x)-1,-1,-1):\n",
    "        l = l+x[i]\n",
    "    return l\n",
    "a = input(\"enter string\")\n",
    "print(a)\n",
    "print(\"reverse is:\",rev(a))"
   ]
  },
  {
   "cell_type": "code",
   "execution_count": null,
   "id": "3156676c",
   "metadata": {},
   "outputs": [],
   "source": []
  }
 ],
 "metadata": {
  "kernelspec": {
   "display_name": "Python 3 (ipykernel)",
   "language": "python",
   "name": "python3"
  },
  "language_info": {
   "codemirror_mode": {
    "name": "ipython",
    "version": 3
   },
   "file_extension": ".py",
   "mimetype": "text/x-python",
   "name": "python",
   "nbconvert_exporter": "python",
   "pygments_lexer": "ipython3",
   "version": "3.10.2"
  }
 },
 "nbformat": 4,
 "nbformat_minor": 5
}
