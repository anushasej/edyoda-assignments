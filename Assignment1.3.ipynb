{
 "cells": [
  {
   "cell_type": "code",
   "execution_count": 1,
   "id": "beee1727",
   "metadata": {},
   "outputs": [],
   "source": [
    "#Write a Python program to count the number of even and odd numbers from a series of numbers.\n",
    "#Sample numbers : numbers = (1, 2, 3, 4, 5, 6, 7, 8, 9) \n",
    "#Expected Output :\n",
    "#Number of even numbers : 4\n",
    "#Number of odd numbers : 5"
   ]
  },
  {
   "cell_type": "code",
   "execution_count": 3,
   "id": "64ffed8f",
   "metadata": {},
   "outputs": [
    {
     "name": "stdout",
     "output_type": "stream",
     "text": [
      "Number of even numbers:  4\n",
      "Number of odd numbers:  5\n"
     ]
    }
   ],
   "source": [
    "num = [1,2,3,4,5,6,7,8,9]\n",
    "e =0\n",
    "o =0\n",
    "for i in num:\n",
    "    if(i%2==0):\n",
    "        e += 1\n",
    "    else:\n",
    "        o += 1\n",
    "print(\"Number of even numbers: \",e)\n",
    "print(\"Number of odd numbers: \",o)"
   ]
  }
 ],
 "metadata": {
  "kernelspec": {
   "display_name": "Python 3 (ipykernel)",
   "language": "python",
   "name": "python3"
  },
  "language_info": {
   "codemirror_mode": {
    "name": "ipython",
    "version": 3
   },
   "file_extension": ".py",
   "mimetype": "text/x-python",
   "name": "python",
   "nbconvert_exporter": "python",
   "pygments_lexer": "ipython3",
   "version": "3.10.2"
  }
 },
 "nbformat": 4,
 "nbformat_minor": 5
}
