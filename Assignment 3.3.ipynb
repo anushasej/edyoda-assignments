{
 "cells": [
  {
   "cell_type": "code",
   "execution_count": 1,
   "id": "315eb38e",
   "metadata": {},
   "outputs": [
    {
     "name": "stdout",
     "output_type": "stream",
     "text": [
      "Ajay Is A Bad Boy\n",
      "Number of upper case characters:  5\n",
      "Number of lower case characters:  8\n"
     ]
    }
   ],
   "source": [
    "a = input()\n",
    "uc = 0\n",
    "lc =0\n",
    "for i in a:\n",
    "    if ord(i) in range(ord('A'),ord('Z')+1):\n",
    "        uc+=1\n",
    "    if ord(i) in range(ord('a'),ord('z')+1):\n",
    "        lc+=1\n",
    "print(\"Number of upper case characters: \",uc)\n",
    "print(\"Number of lower case characters: \",lc)"
   ]
  },
  {
   "cell_type": "code",
   "execution_count": null,
   "id": "91d8e028",
   "metadata": {},
   "outputs": [],
   "source": []
  }
 ],
 "metadata": {
  "kernelspec": {
   "display_name": "Python 3 (ipykernel)",
   "language": "python",
   "name": "python3"
  },
  "language_info": {
   "codemirror_mode": {
    "name": "ipython",
    "version": 3
   },
   "file_extension": ".py",
   "mimetype": "text/x-python",
   "name": "python",
   "nbconvert_exporter": "python",
   "pygments_lexer": "ipython3",
   "version": "3.10.2"
  }
 },
 "nbformat": 4,
 "nbformat_minor": 5
}
