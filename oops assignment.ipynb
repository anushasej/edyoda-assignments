{
 "cells": [
  {
   "cell_type": "code",
   "execution_count": 1,
   "id": "57f9b92a",
   "metadata": {},
   "outputs": [
    {
     "data": {
      "text/plain": [
       "36"
      ]
     },
     "execution_count": 1,
     "metadata": {},
     "output_type": "execute_result"
    }
   ],
   "source": [
    "class Power:\n",
    "    def __init__(self,num,n):\n",
    "        self.num=num\n",
    "        self.n=n\n",
    "    def Run(self):\n",
    "        return self.num **self.n \n",
    "    \n",
    "q= Power(6,2)\n",
    "q.Run()"
   ]
  },
  {
   "cell_type": "code",
   "execution_count": null,
   "id": "1d6a8ffe",
   "metadata": {},
   "outputs": [],
   "source": []
  }
 ],
 "metadata": {
  "kernelspec": {
   "display_name": "Python 3 (ipykernel)",
   "language": "python",
   "name": "python3"
  },
  "language_info": {
   "codemirror_mode": {
    "name": "ipython",
    "version": 3
   },
   "file_extension": ".py",
   "mimetype": "text/x-python",
   "name": "python",
   "nbconvert_exporter": "python",
   "pygments_lexer": "ipython3",
   "version": "3.10.2"
  }
 },
 "nbformat": 4,
 "nbformat_minor": 5
}
