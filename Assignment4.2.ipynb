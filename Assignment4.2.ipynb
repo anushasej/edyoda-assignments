{
 "cells": [
  {
   "cell_type": "code",
   "execution_count": 4,
   "id": "e01eedc6",
   "metadata": {},
   "outputs": [
    {
     "name": "stdout",
     "output_type": "stream",
     "text": [
      "enter numbers with space1 2 3 4\n",
      "[1, 2, 3, 4]\n",
      "[3, 6, 9, 12]\n"
     ]
    }
   ],
   "source": [
    "a = list(input(\"enter numbers with space\").split())\n",
    "b = list(map(int,a))\n",
    "print(b)\n",
    "k = list(map(lambda x:x*3,b))\n",
    "print(k)"
   ]
  },
  {
   "cell_type": "code",
   "execution_count": null,
   "id": "b80b4d7d",
   "metadata": {},
   "outputs": [],
   "source": []
  }
 ],
 "metadata": {
  "kernelspec": {
   "display_name": "Python 3 (ipykernel)",
   "language": "python",
   "name": "python3"
  },
  "language_info": {
   "codemirror_mode": {
    "name": "ipython",
    "version": 3
   },
   "file_extension": ".py",
   "mimetype": "text/x-python",
   "name": "python",
   "nbconvert_exporter": "python",
   "pygments_lexer": "ipython3",
   "version": "3.10.2"
  }
 },
 "nbformat": 4,
 "nbformat_minor": 5
}
